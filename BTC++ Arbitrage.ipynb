{
 "cells": [
  {
   "cell_type": "markdown",
   "id": "bd5bf6fe",
   "metadata": {},
   "source": [
    "# Sources\n",
    "\n",
    "* https://api.1inch.exchange/swagger/ethereum/#/Swap/SwapController_getSwap\n",
    "* https://docs.1inch.io/api/quote-swap"
   ]
  },
  {
   "cell_type": "code",
   "execution_count": 1,
   "id": "fec4516d",
   "metadata": {},
   "outputs": [],
   "source": [
    "import requests"
   ]
  },
  {
   "cell_type": "code",
   "execution_count": 4,
   "id": "4640cf7d",
   "metadata": {},
   "outputs": [
    {
     "data": {
      "text/plain": [
       "{'fromToken': {'symbol': 'USDT',\n",
       "  'name': 'Tether USD',\n",
       "  'address': '0xdac17f958d2ee523a2206206994597c13d831ec7',\n",
       "  'decimals': 6,\n",
       "  'logoURI': 'https://tokens.1inch.exchange/0xdac17f958d2ee523a2206206994597c13d831ec7.png'},\n",
       " 'toToken': {'symbol': 'WBTC',\n",
       "  'name': 'Wrapped BTC',\n",
       "  'address': '0x2260fac5e5542a773aa44fbcfedf7c193bc2c599',\n",
       "  'decimals': 8,\n",
       "  'logoURI': 'https://tokens.1inch.exchange/0x2260fac5e5542a773aa44fbcfedf7c193bc2c599.png'},\n",
       " 'toTokenAmount': '26070044',\n",
       " 'fromTokenAmount': '10000000000',\n",
       " 'protocols': [[[{'name': 'PMM1',\n",
       "     'part': 100,\n",
       "     'fromTokenAddress': '0xdac17f958d2ee523a2206206994597c13d831ec7',\n",
       "     'toTokenAddress': '0x2260fac5e5542a773aa44fbcfedf7c193bc2c599'}]]],\n",
       " 'estimatedGas': 250830}"
      ]
     },
     "execution_count": 4,
     "metadata": {},
     "output_type": "execute_result"
    }
   ],
   "source": [
    "oneinch_json_call = requests.get('https://api.1inch.exchange/v3.0/1/quote?fromTokenAddress=0xdac17f958d2ee523a2206206994597c13d831ec7&toTokenAddress=0x2260fac5e5542a773aa44fbcfedf7c193bc2c599&amount=10000000000')\\\n",
    "        .json()\n",
    "\n",
    "oneinch_json_call"
   ]
  },
  {
   "cell_type": "code",
   "execution_count": 7,
   "id": "de10e869",
   "metadata": {},
   "outputs": [
    {
     "data": {
      "text/plain": [
       "'U'"
      ]
     },
     "execution_count": 7,
     "metadata": {},
     "output_type": "execute_result"
    }
   ],
   "source": []
  }
 ],
 "metadata": {
  "kernelspec": {
   "display_name": "Python 3",
   "language": "python",
   "name": "python3"
  },
  "language_info": {
   "codemirror_mode": {
    "name": "ipython",
    "version": 3
   },
   "file_extension": ".py",
   "mimetype": "text/x-python",
   "name": "python",
   "nbconvert_exporter": "python",
   "pygments_lexer": "ipython3",
   "version": "3.9.4"
  }
 },
 "nbformat": 4,
 "nbformat_minor": 5
}
